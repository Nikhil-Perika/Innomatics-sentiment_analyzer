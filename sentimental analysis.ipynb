{
 "cells": [
  {
   "cell_type": "markdown",
   "id": "62a45af8",
   "metadata": {},
   "source": [
    "#                                    Sentimental Analysis"
   ]
  },
  {
   "cell_type": "code",
   "execution_count": 1,
   "id": "c5d1334b",
   "metadata": {},
   "outputs": [
    {
     "name": "stdout",
     "output_type": "stream",
     "text": [
      "Collecting textblob\n",
      "  Downloading textblob-0.18.0.post0-py3-none-any.whl.metadata (4.5 kB)\n",
      "Collecting nltk>=3.8 (from textblob)\n",
      "  Downloading nltk-3.8.1-py3-none-any.whl.metadata (2.8 kB)\n",
      "Requirement already satisfied: click in c:\\users\\akhil\\appdata\\local\\packages\\pythonsoftwarefoundation.python.3.10_qbz5n2kfra8p0\\localcache\\local-packages\\python310\\site-packages (from nltk>=3.8->textblob) (8.1.7)\n",
      "Requirement already satisfied: joblib in c:\\users\\akhil\\appdata\\local\\packages\\pythonsoftwarefoundation.python.3.10_qbz5n2kfra8p0\\localcache\\local-packages\\python310\\site-packages (from nltk>=3.8->textblob) (1.3.2)\n",
      "Collecting regex>=2021.8.3 (from nltk>=3.8->textblob)\n",
      "  Downloading regex-2023.12.25-cp310-cp310-win_amd64.whl.metadata (41 kB)\n",
      "     ---------------------------------------- 0.0/42.0 kB ? eta -:--:--\n",
      "     ----------------------------- ---------- 30.7/42.0 kB 1.3 MB/s eta 0:00:01\n",
      "     -------------------------------------- 42.0/42.0 kB 401.7 kB/s eta 0:00:00\n",
      "Collecting tqdm (from nltk>=3.8->textblob)\n",
      "  Downloading tqdm-4.66.2-py3-none-any.whl.metadata (57 kB)\n",
      "     ---------------------------------------- 0.0/57.6 kB ? eta -:--:--\n",
      "     ---------------------------------------- 57.6/57.6 kB 1.5 MB/s eta 0:00:00\n",
      "Requirement already satisfied: colorama in c:\\users\\akhil\\appdata\\local\\packages\\pythonsoftwarefoundation.python.3.10_qbz5n2kfra8p0\\localcache\\local-packages\\python310\\site-packages (from click->nltk>=3.8->textblob) (0.4.6)\n",
      "Downloading textblob-0.18.0.post0-py3-none-any.whl (626 kB)\n",
      "   ---------------------------------------- 0.0/626.3 kB ? eta -:--:--\n",
      "   ------- -------------------------------- 112.6/626.3 kB 3.3 MB/s eta 0:00:01\n",
      "   ----------- ---------------------------- 174.1/626.3 kB 2.1 MB/s eta 0:00:01\n",
      "   ---------------- ----------------------- 256.0/626.3 kB 2.0 MB/s eta 0:00:01\n",
      "   -------------------- ------------------- 327.7/626.3 kB 2.0 MB/s eta 0:00:01\n",
      "   ------------------------ --------------- 389.1/626.3 kB 2.0 MB/s eta 0:00:01\n",
      "   -------------------------------- ------- 501.8/626.3 kB 2.0 MB/s eta 0:00:01\n",
      "   ------------------------------------- -- 583.7/626.3 kB 2.0 MB/s eta 0:00:01\n",
      "   ---------------------------------------- 626.3/626.3 kB 2.0 MB/s eta 0:00:00\n",
      "Downloading nltk-3.8.1-py3-none-any.whl (1.5 MB)\n",
      "   ---------------------------------------- 0.0/1.5 MB ? eta -:--:--\n",
      "   - -------------------------------------- 0.1/1.5 MB 2.0 MB/s eta 0:00:01\n",
      "   -- ------------------------------------- 0.1/1.5 MB 1.7 MB/s eta 0:00:01\n",
      "   -- ------------------------------------- 0.1/1.5 MB 939.4 kB/s eta 0:00:02\n",
      "   ------ --------------------------------- 0.3/1.5 MB 1.6 MB/s eta 0:00:01\n",
      "   -------- ------------------------------- 0.3/1.5 MB 1.5 MB/s eta 0:00:01\n",
      "   ---------- ----------------------------- 0.4/1.5 MB 1.5 MB/s eta 0:00:01\n",
      "   ------------- -------------------------- 0.5/1.5 MB 1.6 MB/s eta 0:00:01\n",
      "   --------------- ------------------------ 0.6/1.5 MB 1.8 MB/s eta 0:00:01\n",
      "   ------------------ --------------------- 0.7/1.5 MB 1.8 MB/s eta 0:00:01\n",
      "   ---------------------- ----------------- 0.8/1.5 MB 1.9 MB/s eta 0:00:01\n",
      "   ----------------------- ---------------- 0.9/1.5 MB 1.9 MB/s eta 0:00:01\n",
      "   --------------------------- ------------ 1.0/1.5 MB 2.0 MB/s eta 0:00:01\n",
      "   ------------------------------ --------- 1.2/1.5 MB 2.0 MB/s eta 0:00:01\n",
      "   ------------------------------- -------- 1.2/1.5 MB 2.0 MB/s eta 0:00:01\n",
      "   ---------------------------------- ----- 1.3/1.5 MB 2.0 MB/s eta 0:00:01\n",
      "   ------------------------------------- -- 1.4/1.5 MB 2.0 MB/s eta 0:00:01\n",
      "   ---------------------------------------  1.5/1.5 MB 2.0 MB/s eta 0:00:01\n",
      "   ---------------------------------------- 1.5/1.5 MB 1.9 MB/s eta 0:00:00\n",
      "Downloading regex-2023.12.25-cp310-cp310-win_amd64.whl (269 kB)\n",
      "   ---------------------------------------- 0.0/269.5 kB ? eta -:--:--\n",
      "   --------- ------------------------------ 61.4/269.5 kB 3.4 MB/s eta 0:00:01\n",
      "   ---------------------------- ----------- 194.6/269.5 kB 3.0 MB/s eta 0:00:01\n",
      "   ---------------------------------------  266.2/269.5 kB 2.3 MB/s eta 0:00:01\n",
      "   ---------------------------------------- 269.5/269.5 kB 1.9 MB/s eta 0:00:00\n",
      "Downloading tqdm-4.66.2-py3-none-any.whl (78 kB)\n",
      "   ---------------------------------------- 0.0/78.3 kB ? eta -:--:--\n",
      "   ------------------------------------ --- 71.7/78.3 kB 2.0 MB/s eta 0:00:01\n",
      "   ---------------------------------------- 78.3/78.3 kB 731.8 kB/s eta 0:00:00\n",
      "Installing collected packages: tqdm, regex, nltk, textblob\n",
      "Successfully installed nltk-3.8.1 regex-2023.12.25 textblob-0.18.0.post0 tqdm-4.66.2\n",
      "Note: you may need to restart the kernel to use updated packages.\n"
     ]
    }
   ],
   "source": [
    "pip install textblob"
   ]
  },
  {
   "cell_type": "markdown",
   "id": "e9ce0441",
   "metadata": {},
   "source": [
    "## importing required libraries for data loading"
   ]
  },
  {
   "cell_type": "code",
   "execution_count": 25,
   "id": "0d2bf1c8",
   "metadata": {},
   "outputs": [],
   "source": [
    "import pandas as pd\n",
    "import pickle"
   ]
  },
  {
   "cell_type": "code",
   "execution_count": 3,
   "id": "4240f0ef",
   "metadata": {},
   "outputs": [
    {
     "data": {
      "text/html": [
       "<div>\n",
       "<style scoped>\n",
       "    .dataframe tbody tr th:only-of-type {\n",
       "        vertical-align: middle;\n",
       "    }\n",
       "\n",
       "    .dataframe tbody tr th {\n",
       "        vertical-align: top;\n",
       "    }\n",
       "\n",
       "    .dataframe thead th {\n",
       "        text-align: right;\n",
       "    }\n",
       "</style>\n",
       "<table border=\"1\" class=\"dataframe\">\n",
       "  <thead>\n",
       "    <tr style=\"text-align: right;\">\n",
       "      <th></th>\n",
       "      <th>Reviewer Name</th>\n",
       "      <th>Review Title</th>\n",
       "      <th>Place of Review</th>\n",
       "      <th>Up Votes</th>\n",
       "      <th>Down Votes</th>\n",
       "      <th>Month</th>\n",
       "      <th>Review text</th>\n",
       "      <th>Ratings</th>\n",
       "    </tr>\n",
       "  </thead>\n",
       "  <tbody>\n",
       "    <tr>\n",
       "      <th>0</th>\n",
       "      <td>Kamal Suresh</td>\n",
       "      <td>Nice product</td>\n",
       "      <td>Certified Buyer, Chirakkal</td>\n",
       "      <td>889.0</td>\n",
       "      <td>64.0</td>\n",
       "      <td>Feb 2021</td>\n",
       "      <td>Nice product, good quality, but price is now r...</td>\n",
       "      <td>4</td>\n",
       "    </tr>\n",
       "    <tr>\n",
       "      <th>1</th>\n",
       "      <td>Flipkart Customer</td>\n",
       "      <td>Don't waste your money</td>\n",
       "      <td>Certified Buyer, Hyderabad</td>\n",
       "      <td>109.0</td>\n",
       "      <td>6.0</td>\n",
       "      <td>Feb 2021</td>\n",
       "      <td>They didn't supplied Yonex Mavis 350. Outside ...</td>\n",
       "      <td>1</td>\n",
       "    </tr>\n",
       "    <tr>\n",
       "      <th>2</th>\n",
       "      <td>A. S. Raja Srinivasan</td>\n",
       "      <td>Did not meet expectations</td>\n",
       "      <td>Certified Buyer, Dharmapuri</td>\n",
       "      <td>42.0</td>\n",
       "      <td>3.0</td>\n",
       "      <td>Apr 2021</td>\n",
       "      <td>Worst product. Damaged shuttlecocks packed in ...</td>\n",
       "      <td>1</td>\n",
       "    </tr>\n",
       "    <tr>\n",
       "      <th>3</th>\n",
       "      <td>Suresh Narayanasamy</td>\n",
       "      <td>Fair</td>\n",
       "      <td>Certified Buyer, Chennai</td>\n",
       "      <td>25.0</td>\n",
       "      <td>1.0</td>\n",
       "      <td>NaN</td>\n",
       "      <td>Quite O. K. , but nowadays  the quality of the...</td>\n",
       "      <td>3</td>\n",
       "    </tr>\n",
       "    <tr>\n",
       "      <th>4</th>\n",
       "      <td>ASHIK P A</td>\n",
       "      <td>Over priced</td>\n",
       "      <td>NaN</td>\n",
       "      <td>147.0</td>\n",
       "      <td>24.0</td>\n",
       "      <td>Apr 2016</td>\n",
       "      <td>Over pricedJust â?¹620 ..from retailer.I didn'...</td>\n",
       "      <td>1</td>\n",
       "    </tr>\n",
       "    <tr>\n",
       "      <th>...</th>\n",
       "      <td>...</td>\n",
       "      <td>...</td>\n",
       "      <td>...</td>\n",
       "      <td>...</td>\n",
       "      <td>...</td>\n",
       "      <td>...</td>\n",
       "      <td>...</td>\n",
       "      <td>...</td>\n",
       "    </tr>\n",
       "    <tr>\n",
       "      <th>8513</th>\n",
       "      <td>NaN</td>\n",
       "      <td>NaN</td>\n",
       "      <td>NaN</td>\n",
       "      <td>NaN</td>\n",
       "      <td>NaN</td>\n",
       "      <td>NaN</td>\n",
       "      <td>NaN</td>\n",
       "      <td>5</td>\n",
       "    </tr>\n",
       "    <tr>\n",
       "      <th>8514</th>\n",
       "      <td>NaN</td>\n",
       "      <td>NaN</td>\n",
       "      <td>NaN</td>\n",
       "      <td>NaN</td>\n",
       "      <td>NaN</td>\n",
       "      <td>NaN</td>\n",
       "      <td>NaN</td>\n",
       "      <td>2</td>\n",
       "    </tr>\n",
       "    <tr>\n",
       "      <th>8515</th>\n",
       "      <td>NaN</td>\n",
       "      <td>NaN</td>\n",
       "      <td>NaN</td>\n",
       "      <td>NaN</td>\n",
       "      <td>NaN</td>\n",
       "      <td>NaN</td>\n",
       "      <td>NaN</td>\n",
       "      <td>4</td>\n",
       "    </tr>\n",
       "    <tr>\n",
       "      <th>8516</th>\n",
       "      <td>NaN</td>\n",
       "      <td>NaN</td>\n",
       "      <td>NaN</td>\n",
       "      <td>NaN</td>\n",
       "      <td>NaN</td>\n",
       "      <td>NaN</td>\n",
       "      <td>NaN</td>\n",
       "      <td>1</td>\n",
       "    </tr>\n",
       "    <tr>\n",
       "      <th>8517</th>\n",
       "      <td>NaN</td>\n",
       "      <td>NaN</td>\n",
       "      <td>NaN</td>\n",
       "      <td>NaN</td>\n",
       "      <td>NaN</td>\n",
       "      <td>NaN</td>\n",
       "      <td>NaN</td>\n",
       "      <td>4</td>\n",
       "    </tr>\n",
       "  </tbody>\n",
       "</table>\n",
       "<p>8518 rows × 8 columns</p>\n",
       "</div>"
      ],
      "text/plain": [
       "               Reviewer Name               Review Title  \\\n",
       "0               Kamal Suresh               Nice product   \n",
       "1          Flipkart Customer     Don't waste your money   \n",
       "2     A. S. Raja Srinivasan   Did not meet expectations   \n",
       "3        Suresh Narayanasamy                       Fair   \n",
       "4                  ASHIK P A                Over priced   \n",
       "...                      ...                        ...   \n",
       "8513                     NaN                        NaN   \n",
       "8514                     NaN                        NaN   \n",
       "8515                     NaN                        NaN   \n",
       "8516                     NaN                        NaN   \n",
       "8517                     NaN                        NaN   \n",
       "\n",
       "                  Place of Review  Up Votes  Down Votes     Month  \\\n",
       "0      Certified Buyer, Chirakkal     889.0        64.0  Feb 2021   \n",
       "1      Certified Buyer, Hyderabad     109.0         6.0  Feb 2021   \n",
       "2     Certified Buyer, Dharmapuri      42.0         3.0  Apr 2021   \n",
       "3        Certified Buyer, Chennai      25.0         1.0       NaN   \n",
       "4                             NaN     147.0        24.0  Apr 2016   \n",
       "...                           ...       ...         ...       ...   \n",
       "8513                          NaN       NaN         NaN       NaN   \n",
       "8514                          NaN       NaN         NaN       NaN   \n",
       "8515                          NaN       NaN         NaN       NaN   \n",
       "8516                          NaN       NaN         NaN       NaN   \n",
       "8517                          NaN       NaN         NaN       NaN   \n",
       "\n",
       "                                            Review text  Ratings  \n",
       "0     Nice product, good quality, but price is now r...        4  \n",
       "1     They didn't supplied Yonex Mavis 350. Outside ...        1  \n",
       "2     Worst product. Damaged shuttlecocks packed in ...        1  \n",
       "3     Quite O. K. , but nowadays  the quality of the...        3  \n",
       "4     Over pricedJust â?¹620 ..from retailer.I didn'...        1  \n",
       "...                                                 ...      ...  \n",
       "8513                                                NaN        5  \n",
       "8514                                                NaN        2  \n",
       "8515                                                NaN        4  \n",
       "8516                                                NaN        1  \n",
       "8517                                                NaN        4  \n",
       "\n",
       "[8518 rows x 8 columns]"
      ]
     },
     "execution_count": 3,
     "metadata": {},
     "output_type": "execute_result"
    }
   ],
   "source": [
    "re_bat=pd.read_csv('Review_bat.csv')\n",
    "re_bat"
   ]
  },
  {
   "cell_type": "code",
   "execution_count": 4,
   "id": "0bce1823",
   "metadata": {},
   "outputs": [
    {
     "name": "stdout",
     "output_type": "stream",
     "text": [
      "<class 'pandas.core.frame.DataFrame'>\n",
      "RangeIndex: 8518 entries, 0 to 8517\n",
      "Data columns (total 8 columns):\n",
      " #   Column           Non-Null Count  Dtype  \n",
      "---  ------           --------------  -----  \n",
      " 0   Reviewer Name    8508 non-null   object \n",
      " 1   Review Title     8508 non-null   object \n",
      " 2   Place of Review  8468 non-null   object \n",
      " 3   Up Votes         8508 non-null   float64\n",
      " 4   Down Votes       8508 non-null   float64\n",
      " 5   Month            8053 non-null   object \n",
      " 6   Review text      8510 non-null   object \n",
      " 7   Ratings          8518 non-null   int64  \n",
      "dtypes: float64(2), int64(1), object(5)\n",
      "memory usage: 532.5+ KB\n"
     ]
    }
   ],
   "source": [
    "re_bat.info()"
   ]
  },
  {
   "cell_type": "code",
   "execution_count": 5,
   "id": "ec2cdc60",
   "metadata": {},
   "outputs": [
    {
     "data": {
      "text/plain": [
       "Reviewer Name       10\n",
       "Review Title        10\n",
       "Place of Review     50\n",
       "Up Votes            10\n",
       "Down Votes          10\n",
       "Month              465\n",
       "Review text          8\n",
       "Ratings              0\n",
       "dtype: int64"
      ]
     },
     "execution_count": 5,
     "metadata": {},
     "output_type": "execute_result"
    }
   ],
   "source": [
    "null_counts1=re_bat.isnull().sum()\n",
    "null_counts1"
   ]
  },
  {
   "cell_type": "code",
   "execution_count": 6,
   "id": "4076eea4",
   "metadata": {},
   "outputs": [
    {
     "data": {
      "text/html": [
       "<div>\n",
       "<style scoped>\n",
       "    .dataframe tbody tr th:only-of-type {\n",
       "        vertical-align: middle;\n",
       "    }\n",
       "\n",
       "    .dataframe tbody tr th {\n",
       "        vertical-align: top;\n",
       "    }\n",
       "\n",
       "    .dataframe thead th {\n",
       "        text-align: right;\n",
       "    }\n",
       "</style>\n",
       "<table border=\"1\" class=\"dataframe\">\n",
       "  <thead>\n",
       "    <tr style=\"text-align: right;\">\n",
       "      <th></th>\n",
       "      <th>Reviewer Name</th>\n",
       "      <th>Review Title</th>\n",
       "      <th>Place of Review</th>\n",
       "      <th>Up Votes</th>\n",
       "      <th>Down Votes</th>\n",
       "      <th>Month</th>\n",
       "      <th>Review text</th>\n",
       "      <th>Ratings</th>\n",
       "    </tr>\n",
       "  </thead>\n",
       "  <tbody>\n",
       "    <tr>\n",
       "      <th>0</th>\n",
       "      <td>Kamal Suresh</td>\n",
       "      <td>Nice product</td>\n",
       "      <td>Certified Buyer, Chirakkal</td>\n",
       "      <td>889.0</td>\n",
       "      <td>64.0</td>\n",
       "      <td>Feb 2021</td>\n",
       "      <td>Nice product, good quality, but price is now r...</td>\n",
       "      <td>4</td>\n",
       "    </tr>\n",
       "    <tr>\n",
       "      <th>1</th>\n",
       "      <td>Flipkart Customer</td>\n",
       "      <td>Don't waste your money</td>\n",
       "      <td>Certified Buyer, Hyderabad</td>\n",
       "      <td>109.0</td>\n",
       "      <td>6.0</td>\n",
       "      <td>Feb 2021</td>\n",
       "      <td>They didn't supplied Yonex Mavis 350. Outside ...</td>\n",
       "      <td>1</td>\n",
       "    </tr>\n",
       "    <tr>\n",
       "      <th>2</th>\n",
       "      <td>A. S. Raja Srinivasan</td>\n",
       "      <td>Did not meet expectations</td>\n",
       "      <td>Certified Buyer, Dharmapuri</td>\n",
       "      <td>42.0</td>\n",
       "      <td>3.0</td>\n",
       "      <td>Apr 2021</td>\n",
       "      <td>Worst product. Damaged shuttlecocks packed in ...</td>\n",
       "      <td>1</td>\n",
       "    </tr>\n",
       "    <tr>\n",
       "      <th>5</th>\n",
       "      <td>Baji Sankar</td>\n",
       "      <td>Mind-blowing purchase</td>\n",
       "      <td>Certified Buyer, Hyderabad</td>\n",
       "      <td>173.0</td>\n",
       "      <td>45.0</td>\n",
       "      <td>Oct 2018</td>\n",
       "      <td>Good quality product. Delivered on time.READ MORE</td>\n",
       "      <td>5</td>\n",
       "    </tr>\n",
       "    <tr>\n",
       "      <th>6</th>\n",
       "      <td>Flipkart Customer</td>\n",
       "      <td>Must buy!</td>\n",
       "      <td>Certified Buyer, Doom Dooma</td>\n",
       "      <td>403.0</td>\n",
       "      <td>121.0</td>\n",
       "      <td>Jan 2020</td>\n",
       "      <td>BEST PURCHASE It is a good quality and is more...</td>\n",
       "      <td>5</td>\n",
       "    </tr>\n",
       "    <tr>\n",
       "      <th>...</th>\n",
       "      <td>...</td>\n",
       "      <td>...</td>\n",
       "      <td>...</td>\n",
       "      <td>...</td>\n",
       "      <td>...</td>\n",
       "      <td>...</td>\n",
       "      <td>...</td>\n",
       "      <td>...</td>\n",
       "    </tr>\n",
       "    <tr>\n",
       "      <th>8495</th>\n",
       "      <td>vishal kumar ashish</td>\n",
       "      <td>Nice</td>\n",
       "      <td>Certified Buyer, Haridwar</td>\n",
       "      <td>0.0</td>\n",
       "      <td>0.0</td>\n",
       "      <td>Oct 2016</td>\n",
       "      <td>Thanks to the delivery boy ... Service is alwa...</td>\n",
       "      <td>5</td>\n",
       "    </tr>\n",
       "    <tr>\n",
       "      <th>8496</th>\n",
       "      <td>Nitya Nand  Rai</td>\n",
       "      <td>Good choice</td>\n",
       "      <td>Certified Buyer, Raebareli</td>\n",
       "      <td>0.0</td>\n",
       "      <td>0.0</td>\n",
       "      <td>Oct 2016</td>\n",
       "      <td>Over priced even after 50% discount price is m...</td>\n",
       "      <td>1</td>\n",
       "    </tr>\n",
       "    <tr>\n",
       "      <th>8497</th>\n",
       "      <td>Tarun Reddy</td>\n",
       "      <td>Awesome</td>\n",
       "      <td>Certified Buyer</td>\n",
       "      <td>0.0</td>\n",
       "      <td>0.0</td>\n",
       "      <td>Oct 2016</td>\n",
       "      <td>Too much priced. It was getting me for Rs. 640...</td>\n",
       "      <td>1</td>\n",
       "    </tr>\n",
       "    <tr>\n",
       "      <th>8499</th>\n",
       "      <td>Jayachandra</td>\n",
       "      <td>High cost</td>\n",
       "      <td>Certified Buyer, Mangalore</td>\n",
       "      <td>0.0</td>\n",
       "      <td>0.0</td>\n",
       "      <td>Dec 2015</td>\n",
       "      <td>Hii flipkart customers care..why your delivery...</td>\n",
       "      <td>5</td>\n",
       "    </tr>\n",
       "    <tr>\n",
       "      <th>8507</th>\n",
       "      <td>vishnu varma</td>\n",
       "      <td>Really Nice</td>\n",
       "      <td>Certified Buyer, Agartala</td>\n",
       "      <td>0.0</td>\n",
       "      <td>1.0</td>\n",
       "      <td>Sep 2016</td>\n",
       "      <td>Nice delivery speedREAD MORE</td>\n",
       "      <td>5</td>\n",
       "    </tr>\n",
       "  </tbody>\n",
       "</table>\n",
       "<p>8013 rows × 8 columns</p>\n",
       "</div>"
      ],
      "text/plain": [
       "               Reviewer Name               Review Title  \\\n",
       "0               Kamal Suresh               Nice product   \n",
       "1          Flipkart Customer     Don't waste your money   \n",
       "2     A. S. Raja Srinivasan   Did not meet expectations   \n",
       "5                Baji Sankar      Mind-blowing purchase   \n",
       "6          Flipkart Customer                  Must buy!   \n",
       "...                      ...                        ...   \n",
       "8495     vishal kumar ashish                       Nice   \n",
       "8496         Nitya Nand  Rai                Good choice   \n",
       "8497             Tarun Reddy                    Awesome   \n",
       "8499             Jayachandra                  High cost   \n",
       "8507            vishnu varma                Really Nice   \n",
       "\n",
       "                  Place of Review  Up Votes  Down Votes     Month  \\\n",
       "0      Certified Buyer, Chirakkal     889.0        64.0  Feb 2021   \n",
       "1      Certified Buyer, Hyderabad     109.0         6.0  Feb 2021   \n",
       "2     Certified Buyer, Dharmapuri      42.0         3.0  Apr 2021   \n",
       "5      Certified Buyer, Hyderabad     173.0        45.0  Oct 2018   \n",
       "6     Certified Buyer, Doom Dooma     403.0       121.0  Jan 2020   \n",
       "...                           ...       ...         ...       ...   \n",
       "8495    Certified Buyer, Haridwar       0.0         0.0  Oct 2016   \n",
       "8496   Certified Buyer, Raebareli       0.0         0.0  Oct 2016   \n",
       "8497              Certified Buyer       0.0         0.0  Oct 2016   \n",
       "8499   Certified Buyer, Mangalore       0.0         0.0  Dec 2015   \n",
       "8507    Certified Buyer, Agartala       0.0         1.0  Sep 2016   \n",
       "\n",
       "                                            Review text  Ratings  \n",
       "0     Nice product, good quality, but price is now r...        4  \n",
       "1     They didn't supplied Yonex Mavis 350. Outside ...        1  \n",
       "2     Worst product. Damaged shuttlecocks packed in ...        1  \n",
       "5     Good quality product. Delivered on time.READ MORE        5  \n",
       "6     BEST PURCHASE It is a good quality and is more...        5  \n",
       "...                                                 ...      ...  \n",
       "8495  Thanks to the delivery boy ... Service is alwa...        5  \n",
       "8496  Over priced even after 50% discount price is m...        1  \n",
       "8497  Too much priced. It was getting me for Rs. 640...        1  \n",
       "8499  Hii flipkart customers care..why your delivery...        5  \n",
       "8507                       Nice delivery speedREAD MORE        5  \n",
       "\n",
       "[8013 rows x 8 columns]"
      ]
     },
     "execution_count": 6,
     "metadata": {},
     "output_type": "execute_result"
    }
   ],
   "source": [
    "re_bat=re_bat.dropna()\n",
    "re_bat"
   ]
  },
  {
   "cell_type": "code",
   "execution_count": 7,
   "id": "91f831a8",
   "metadata": {},
   "outputs": [
    {
     "data": {
      "text/plain": [
       "Reviewer Name      0\n",
       "Review Title       0\n",
       "Place of Review    0\n",
       "Up Votes           0\n",
       "Down Votes         0\n",
       "Month              0\n",
       "Review text        0\n",
       "Ratings            0\n",
       "dtype: int64"
      ]
     },
     "execution_count": 7,
     "metadata": {},
     "output_type": "execute_result"
    }
   ],
   "source": [
    "re_bat.isnull().sum()"
   ]
  },
  {
   "cell_type": "code",
   "execution_count": 8,
   "id": "2c380722",
   "metadata": {},
   "outputs": [
    {
     "name": "stderr",
     "output_type": "stream",
     "text": [
      "C:\\Users\\AKHIL\\AppData\\Local\\Temp\\ipykernel_19956\\2161366061.py:1: UserWarning: Could not infer format, so each element will be parsed individually, falling back to `dateutil`. To ensure parsing is consistent and as-expected, please specify a format.\n",
      "  re_bat['Month']=pd.to_datetime(re_bat['Month'])\n",
      "C:\\Users\\AKHIL\\AppData\\Local\\Temp\\ipykernel_19956\\2161366061.py:1: SettingWithCopyWarning: \n",
      "A value is trying to be set on a copy of a slice from a DataFrame.\n",
      "Try using .loc[row_indexer,col_indexer] = value instead\n",
      "\n",
      "See the caveats in the documentation: https://pandas.pydata.org/pandas-docs/stable/user_guide/indexing.html#returning-a-view-versus-a-copy\n",
      "  re_bat['Month']=pd.to_datetime(re_bat['Month'])\n"
     ]
    }
   ],
   "source": [
    "re_bat['Month']=pd.to_datetime(re_bat['Month'])\n"
   ]
  },
  {
   "cell_type": "code",
   "execution_count": 9,
   "id": "c476d3b8",
   "metadata": {},
   "outputs": [
    {
     "name": "stdout",
     "output_type": "stream",
     "text": [
      "<class 'pandas.core.frame.DataFrame'>\n",
      "Index: 8013 entries, 0 to 8507\n",
      "Data columns (total 8 columns):\n",
      " #   Column           Non-Null Count  Dtype         \n",
      "---  ------           --------------  -----         \n",
      " 0   Reviewer Name    8013 non-null   object        \n",
      " 1   Review Title     8013 non-null   object        \n",
      " 2   Place of Review  8013 non-null   object        \n",
      " 3   Up Votes         8013 non-null   float64       \n",
      " 4   Down Votes       8013 non-null   float64       \n",
      " 5   Month            8013 non-null   datetime64[ns]\n",
      " 6   Review text      8013 non-null   object        \n",
      " 7   Ratings          8013 non-null   int64         \n",
      "dtypes: datetime64[ns](1), float64(2), int64(1), object(4)\n",
      "memory usage: 563.4+ KB\n"
     ]
    }
   ],
   "source": [
    "re_bat.info()"
   ]
  },
  {
   "cell_type": "code",
   "execution_count": 10,
   "id": "cf95a346",
   "metadata": {},
   "outputs": [
    {
     "data": {
      "text/plain": [
       "0      2021-02-01\n",
       "1      2021-02-01\n",
       "2      2021-04-01\n",
       "5      2018-10-01\n",
       "6      2020-01-01\n",
       "          ...    \n",
       "8495   2016-10-01\n",
       "8496   2016-10-01\n",
       "8497   2016-10-01\n",
       "8499   2015-12-01\n",
       "8507   2016-09-01\n",
       "Name: Month, Length: 8013, dtype: datetime64[ns]"
      ]
     },
     "execution_count": 10,
     "metadata": {},
     "output_type": "execute_result"
    }
   ],
   "source": [
    "re_bat['Month']"
   ]
  },
  {
   "cell_type": "code",
   "execution_count": 11,
   "id": "21fb2aac",
   "metadata": {},
   "outputs": [
    {
     "data": {
      "text/html": [
       "<div>\n",
       "<style scoped>\n",
       "    .dataframe tbody tr th:only-of-type {\n",
       "        vertical-align: middle;\n",
       "    }\n",
       "\n",
       "    .dataframe tbody tr th {\n",
       "        vertical-align: top;\n",
       "    }\n",
       "\n",
       "    .dataframe thead th {\n",
       "        text-align: right;\n",
       "    }\n",
       "</style>\n",
       "<table border=\"1\" class=\"dataframe\">\n",
       "  <thead>\n",
       "    <tr style=\"text-align: right;\">\n",
       "      <th></th>\n",
       "      <th>Up Votes</th>\n",
       "      <th>Down Votes</th>\n",
       "      <th>Month</th>\n",
       "      <th>Ratings</th>\n",
       "    </tr>\n",
       "  </thead>\n",
       "  <tbody>\n",
       "    <tr>\n",
       "      <th>count</th>\n",
       "      <td>8013.000000</td>\n",
       "      <td>8013.000000</td>\n",
       "      <td>8013</td>\n",
       "      <td>8013.000000</td>\n",
       "    </tr>\n",
       "    <tr>\n",
       "      <th>mean</th>\n",
       "      <td>0.386747</td>\n",
       "      <td>0.123424</td>\n",
       "      <td>2019-12-16 17:09:32.819168768</td>\n",
       "      <td>4.198178</td>\n",
       "    </tr>\n",
       "    <tr>\n",
       "      <th>min</th>\n",
       "      <td>0.000000</td>\n",
       "      <td>0.000000</td>\n",
       "      <td>2015-12-01 00:00:00</td>\n",
       "      <td>1.000000</td>\n",
       "    </tr>\n",
       "    <tr>\n",
       "      <th>25%</th>\n",
       "      <td>0.000000</td>\n",
       "      <td>0.000000</td>\n",
       "      <td>2018-11-01 00:00:00</td>\n",
       "      <td>4.000000</td>\n",
       "    </tr>\n",
       "    <tr>\n",
       "      <th>50%</th>\n",
       "      <td>0.000000</td>\n",
       "      <td>0.000000</td>\n",
       "      <td>2020-02-01 00:00:00</td>\n",
       "      <td>5.000000</td>\n",
       "    </tr>\n",
       "    <tr>\n",
       "      <th>75%</th>\n",
       "      <td>0.000000</td>\n",
       "      <td>0.000000</td>\n",
       "      <td>2021-02-01 00:00:00</td>\n",
       "      <td>5.000000</td>\n",
       "    </tr>\n",
       "    <tr>\n",
       "      <th>max</th>\n",
       "      <td>889.000000</td>\n",
       "      <td>219.000000</td>\n",
       "      <td>2022-11-01 00:00:00</td>\n",
       "      <td>5.000000</td>\n",
       "    </tr>\n",
       "    <tr>\n",
       "      <th>std</th>\n",
       "      <td>11.849649</td>\n",
       "      <td>3.334320</td>\n",
       "      <td>NaN</td>\n",
       "      <td>1.244423</td>\n",
       "    </tr>\n",
       "  </tbody>\n",
       "</table>\n",
       "</div>"
      ],
      "text/plain": [
       "          Up Votes   Down Votes                          Month      Ratings\n",
       "count  8013.000000  8013.000000                           8013  8013.000000\n",
       "mean      0.386747     0.123424  2019-12-16 17:09:32.819168768     4.198178\n",
       "min       0.000000     0.000000            2015-12-01 00:00:00     1.000000\n",
       "25%       0.000000     0.000000            2018-11-01 00:00:00     4.000000\n",
       "50%       0.000000     0.000000            2020-02-01 00:00:00     5.000000\n",
       "75%       0.000000     0.000000            2021-02-01 00:00:00     5.000000\n",
       "max     889.000000   219.000000            2022-11-01 00:00:00     5.000000\n",
       "std      11.849649     3.334320                            NaN     1.244423"
      ]
     },
     "execution_count": 11,
     "metadata": {},
     "output_type": "execute_result"
    }
   ],
   "source": [
    "re_bat.describe()"
   ]
  },
  {
   "cell_type": "markdown",
   "id": "11205dd6",
   "metadata": {},
   "source": [
    "### Data Cleaning"
   ]
  },
  {
   "cell_type": "code",
   "execution_count": 12,
   "id": "b027d258",
   "metadata": {},
   "outputs": [],
   "source": [
    "import re\n",
    "from nltk.corpus import stopwords\n",
    "from nltk.stem import WordNetLemmatizer\n",
    "from textblob import TextBlob"
   ]
  },
  {
   "cell_type": "code",
   "execution_count": 13,
   "id": "3f309285",
   "metadata": {},
   "outputs": [],
   "source": [
    "def clean_text(text):\n",
    "    text = re.sub(r'[^a-zA-Z\\s]', '', text)  # Remove special characters and punctuation\n",
    "    text = text.lower()  # Convert text to lowercase\n",
    "    return text\n",
    "\n",
    "def lemmatize_text(text):\n",
    "    lemmatizer = WordNetLemmatizer()\n",
    "    tokens = text.split()\n",
    "    lemmatized_tokens = [lemmatizer.lemmatize(token) for token in tokens]\n",
    "    return ' '.join(lemmatized_tokens)"
   ]
  },
  {
   "cell_type": "code",
   "execution_count": 14,
   "id": "09efe916",
   "metadata": {},
   "outputs": [
    {
     "name": "stderr",
     "output_type": "stream",
     "text": [
      "C:\\Users\\AKHIL\\AppData\\Local\\Temp\\ipykernel_19956\\3269074822.py:1: SettingWithCopyWarning: \n",
      "A value is trying to be set on a copy of a slice from a DataFrame.\n",
      "Try using .loc[row_indexer,col_indexer] = value instead\n",
      "\n",
      "See the caveats in the documentation: https://pandas.pydata.org/pandas-docs/stable/user_guide/indexing.html#returning-a-view-versus-a-copy\n",
      "  re_bat['Review text']=re_bat['Review text'].apply(clean_text)\n"
     ]
    }
   ],
   "source": [
    "re_bat['Review text']=re_bat['Review text'].apply(clean_text)\n"
   ]
  },
  {
   "cell_type": "code",
   "execution_count": 15,
   "id": "11485b9f",
   "metadata": {},
   "outputs": [
    {
     "name": "stderr",
     "output_type": "stream",
     "text": [
      "C:\\Users\\AKHIL\\AppData\\Local\\Temp\\ipykernel_19956\\676882346.py:1: SettingWithCopyWarning: \n",
      "A value is trying to be set on a copy of a slice from a DataFrame.\n",
      "Try using .loc[row_indexer,col_indexer] = value instead\n",
      "\n",
      "See the caveats in the documentation: https://pandas.pydata.org/pandas-docs/stable/user_guide/indexing.html#returning-a-view-versus-a-copy\n",
      "  re_bat['Review text']=re_bat['Review text'].apply(lemmatize_text)\n"
     ]
    }
   ],
   "source": [
    "re_bat['Review text']=re_bat['Review text'].apply(lemmatize_text)"
   ]
  },
  {
   "cell_type": "code",
   "execution_count": 16,
   "id": "6865ec71",
   "metadata": {},
   "outputs": [
    {
     "data": {
      "text/html": [
       "<div>\n",
       "<style scoped>\n",
       "    .dataframe tbody tr th:only-of-type {\n",
       "        vertical-align: middle;\n",
       "    }\n",
       "\n",
       "    .dataframe tbody tr th {\n",
       "        vertical-align: top;\n",
       "    }\n",
       "\n",
       "    .dataframe thead th {\n",
       "        text-align: right;\n",
       "    }\n",
       "</style>\n",
       "<table border=\"1\" class=\"dataframe\">\n",
       "  <thead>\n",
       "    <tr style=\"text-align: right;\">\n",
       "      <th></th>\n",
       "      <th>Reviewer Name</th>\n",
       "      <th>Review Title</th>\n",
       "      <th>Place of Review</th>\n",
       "      <th>Up Votes</th>\n",
       "      <th>Down Votes</th>\n",
       "      <th>Month</th>\n",
       "      <th>Review text</th>\n",
       "      <th>Ratings</th>\n",
       "    </tr>\n",
       "  </thead>\n",
       "  <tbody>\n",
       "    <tr>\n",
       "      <th>0</th>\n",
       "      <td>Kamal Suresh</td>\n",
       "      <td>Nice product</td>\n",
       "      <td>Certified Buyer, Chirakkal</td>\n",
       "      <td>889.0</td>\n",
       "      <td>64.0</td>\n",
       "      <td>2021-02-01</td>\n",
       "      <td>nice product good quality but price is now ris...</td>\n",
       "      <td>4</td>\n",
       "    </tr>\n",
       "    <tr>\n",
       "      <th>1</th>\n",
       "      <td>Flipkart Customer</td>\n",
       "      <td>Don't waste your money</td>\n",
       "      <td>Certified Buyer, Hyderabad</td>\n",
       "      <td>109.0</td>\n",
       "      <td>6.0</td>\n",
       "      <td>2021-02-01</td>\n",
       "      <td>they didnt supplied yonex mavis outside cover ...</td>\n",
       "      <td>1</td>\n",
       "    </tr>\n",
       "    <tr>\n",
       "      <th>2</th>\n",
       "      <td>A. S. Raja Srinivasan</td>\n",
       "      <td>Did not meet expectations</td>\n",
       "      <td>Certified Buyer, Dharmapuri</td>\n",
       "      <td>42.0</td>\n",
       "      <td>3.0</td>\n",
       "      <td>2021-04-01</td>\n",
       "      <td>worst product damaged shuttlecock packed in ne...</td>\n",
       "      <td>1</td>\n",
       "    </tr>\n",
       "    <tr>\n",
       "      <th>5</th>\n",
       "      <td>Baji Sankar</td>\n",
       "      <td>Mind-blowing purchase</td>\n",
       "      <td>Certified Buyer, Hyderabad</td>\n",
       "      <td>173.0</td>\n",
       "      <td>45.0</td>\n",
       "      <td>2018-10-01</td>\n",
       "      <td>good quality product delivered on timeread more</td>\n",
       "      <td>5</td>\n",
       "    </tr>\n",
       "    <tr>\n",
       "      <th>6</th>\n",
       "      <td>Flipkart Customer</td>\n",
       "      <td>Must buy!</td>\n",
       "      <td>Certified Buyer, Doom Dooma</td>\n",
       "      <td>403.0</td>\n",
       "      <td>121.0</td>\n",
       "      <td>2020-01-01</td>\n",
       "      <td>best purchase it is a good quality and is more...</td>\n",
       "      <td>5</td>\n",
       "    </tr>\n",
       "    <tr>\n",
       "      <th>...</th>\n",
       "      <td>...</td>\n",
       "      <td>...</td>\n",
       "      <td>...</td>\n",
       "      <td>...</td>\n",
       "      <td>...</td>\n",
       "      <td>...</td>\n",
       "      <td>...</td>\n",
       "      <td>...</td>\n",
       "    </tr>\n",
       "    <tr>\n",
       "      <th>8495</th>\n",
       "      <td>vishal kumar ashish</td>\n",
       "      <td>Nice</td>\n",
       "      <td>Certified Buyer, Haridwar</td>\n",
       "      <td>0.0</td>\n",
       "      <td>0.0</td>\n",
       "      <td>2016-10-01</td>\n",
       "      <td>thanks to the delivery boy service is always a...</td>\n",
       "      <td>5</td>\n",
       "    </tr>\n",
       "    <tr>\n",
       "      <th>8496</th>\n",
       "      <td>Nitya Nand  Rai</td>\n",
       "      <td>Good choice</td>\n",
       "      <td>Certified Buyer, Raebareli</td>\n",
       "      <td>0.0</td>\n",
       "      <td>0.0</td>\n",
       "      <td>2016-10-01</td>\n",
       "      <td>over priced even after discount price is much ...</td>\n",
       "      <td>1</td>\n",
       "    </tr>\n",
       "    <tr>\n",
       "      <th>8497</th>\n",
       "      <td>Tarun Reddy</td>\n",
       "      <td>Awesome</td>\n",
       "      <td>Certified Buyer</td>\n",
       "      <td>0.0</td>\n",
       "      <td>0.0</td>\n",
       "      <td>2016-10-01</td>\n",
       "      <td>too much priced it wa getting me for r from my...</td>\n",
       "      <td>1</td>\n",
       "    </tr>\n",
       "    <tr>\n",
       "      <th>8499</th>\n",
       "      <td>Jayachandra</td>\n",
       "      <td>High cost</td>\n",
       "      <td>Certified Buyer, Mangalore</td>\n",
       "      <td>0.0</td>\n",
       "      <td>0.0</td>\n",
       "      <td>2015-12-01</td>\n",
       "      <td>hii flipkart customer carewhy your delivery bo...</td>\n",
       "      <td>5</td>\n",
       "    </tr>\n",
       "    <tr>\n",
       "      <th>8507</th>\n",
       "      <td>vishnu varma</td>\n",
       "      <td>Really Nice</td>\n",
       "      <td>Certified Buyer, Agartala</td>\n",
       "      <td>0.0</td>\n",
       "      <td>1.0</td>\n",
       "      <td>2016-09-01</td>\n",
       "      <td>nice delivery speedread more</td>\n",
       "      <td>5</td>\n",
       "    </tr>\n",
       "  </tbody>\n",
       "</table>\n",
       "<p>8013 rows × 8 columns</p>\n",
       "</div>"
      ],
      "text/plain": [
       "               Reviewer Name               Review Title  \\\n",
       "0               Kamal Suresh               Nice product   \n",
       "1          Flipkart Customer     Don't waste your money   \n",
       "2     A. S. Raja Srinivasan   Did not meet expectations   \n",
       "5                Baji Sankar      Mind-blowing purchase   \n",
       "6          Flipkart Customer                  Must buy!   \n",
       "...                      ...                        ...   \n",
       "8495     vishal kumar ashish                       Nice   \n",
       "8496         Nitya Nand  Rai                Good choice   \n",
       "8497             Tarun Reddy                    Awesome   \n",
       "8499             Jayachandra                  High cost   \n",
       "8507            vishnu varma                Really Nice   \n",
       "\n",
       "                  Place of Review  Up Votes  Down Votes      Month  \\\n",
       "0      Certified Buyer, Chirakkal     889.0        64.0 2021-02-01   \n",
       "1      Certified Buyer, Hyderabad     109.0         6.0 2021-02-01   \n",
       "2     Certified Buyer, Dharmapuri      42.0         3.0 2021-04-01   \n",
       "5      Certified Buyer, Hyderabad     173.0        45.0 2018-10-01   \n",
       "6     Certified Buyer, Doom Dooma     403.0       121.0 2020-01-01   \n",
       "...                           ...       ...         ...        ...   \n",
       "8495    Certified Buyer, Haridwar       0.0         0.0 2016-10-01   \n",
       "8496   Certified Buyer, Raebareli       0.0         0.0 2016-10-01   \n",
       "8497              Certified Buyer       0.0         0.0 2016-10-01   \n",
       "8499   Certified Buyer, Mangalore       0.0         0.0 2015-12-01   \n",
       "8507    Certified Buyer, Agartala       0.0         1.0 2016-09-01   \n",
       "\n",
       "                                            Review text  Ratings  \n",
       "0     nice product good quality but price is now ris...        4  \n",
       "1     they didnt supplied yonex mavis outside cover ...        1  \n",
       "2     worst product damaged shuttlecock packed in ne...        1  \n",
       "5       good quality product delivered on timeread more        5  \n",
       "6     best purchase it is a good quality and is more...        5  \n",
       "...                                                 ...      ...  \n",
       "8495  thanks to the delivery boy service is always a...        5  \n",
       "8496  over priced even after discount price is much ...        1  \n",
       "8497  too much priced it wa getting me for r from my...        1  \n",
       "8499  hii flipkart customer carewhy your delivery bo...        5  \n",
       "8507                       nice delivery speedread more        5  \n",
       "\n",
       "[8013 rows x 8 columns]"
      ]
     },
     "execution_count": 16,
     "metadata": {},
     "output_type": "execute_result"
    }
   ],
   "source": [
    "re_bat"
   ]
  },
  {
   "cell_type": "code",
   "execution_count": 17,
   "id": "4daff050",
   "metadata": {},
   "outputs": [
    {
     "name": "stderr",
     "output_type": "stream",
     "text": [
      "[nltk_data] Downloading package punkt to\n",
      "[nltk_data]     C:\\Users\\AKHIL\\AppData\\Roaming\\nltk_data...\n",
      "[nltk_data]   Package punkt is already up-to-date!\n",
      "[nltk_data] Downloading package stopwords to\n",
      "[nltk_data]     C:\\Users\\AKHIL\\AppData\\Roaming\\nltk_data...\n",
      "[nltk_data]   Package stopwords is already up-to-date!\n",
      "[nltk_data] Downloading package wordnet to\n",
      "[nltk_data]     C:\\Users\\AKHIL\\AppData\\Roaming\\nltk_data...\n",
      "[nltk_data]   Package wordnet is already up-to-date!\n"
     ]
    },
    {
     "data": {
      "text/plain": [
       "True"
      ]
     },
     "execution_count": 17,
     "metadata": {},
     "output_type": "execute_result"
    }
   ],
   "source": [
    "from sklearn.model_selection import train_test_split\n",
    "from sklearn.feature_extraction.text import TfidfVectorizer\n",
    "from sklearn.svm import LinearSVC\n",
    "from sklearn.metrics import accuracy_score, classification_report\n",
    "import nltk\n",
    "from nltk.corpus import stopwords\n",
    "from nltk.tokenize import word_tokenize\n",
    "from nltk.stem import WordNetLemmatizer\n",
    "\n",
    "# Download NLTK resources\n",
    "nltk.download('punkt')\n",
    "nltk.download('stopwords')\n",
    "nltk.download('wordnet')"
   ]
  },
  {
   "cell_type": "code",
   "execution_count": 18,
   "id": "27f4f822",
   "metadata": {},
   "outputs": [],
   "source": [
    "# Function to perform sentiment analysis using TextBlob\n",
    "def analyze_sentiment(review):\n",
    "    blob = TextBlob(review)\n",
    "    sentiment_score = blob.sentiment.polarity\n",
    "    if sentiment_score > 0:\n",
    "        return 'Positive'\n",
    "    elif sentiment_score < 0:\n",
    "        return 'Negative'\n",
    "    else:\n",
    "        return 'Neutral'"
   ]
  },
  {
   "cell_type": "code",
   "execution_count": 19,
   "id": "bd59b69f",
   "metadata": {},
   "outputs": [
    {
     "name": "stderr",
     "output_type": "stream",
     "text": [
      "C:\\Users\\AKHIL\\AppData\\Local\\Temp\\ipykernel_19956\\2103214101.py:1: SettingWithCopyWarning: \n",
      "A value is trying to be set on a copy of a slice from a DataFrame.\n",
      "Try using .loc[row_indexer,col_indexer] = value instead\n",
      "\n",
      "See the caveats in the documentation: https://pandas.pydata.org/pandas-docs/stable/user_guide/indexing.html#returning-a-view-versus-a-copy\n",
      "  re_bat['sentiment'] = re_bat['Review text'].apply(analyze_sentiment)\n"
     ]
    }
   ],
   "source": [
    "re_bat['sentiment'] = re_bat['Review text'].apply(analyze_sentiment)"
   ]
  },
  {
   "cell_type": "code",
   "execution_count": 20,
   "id": "e43f634f",
   "metadata": {},
   "outputs": [
    {
     "data": {
      "text/html": [
       "<div>\n",
       "<style scoped>\n",
       "    .dataframe tbody tr th:only-of-type {\n",
       "        vertical-align: middle;\n",
       "    }\n",
       "\n",
       "    .dataframe tbody tr th {\n",
       "        vertical-align: top;\n",
       "    }\n",
       "\n",
       "    .dataframe thead th {\n",
       "        text-align: right;\n",
       "    }\n",
       "</style>\n",
       "<table border=\"1\" class=\"dataframe\">\n",
       "  <thead>\n",
       "    <tr style=\"text-align: right;\">\n",
       "      <th></th>\n",
       "      <th>Reviewer Name</th>\n",
       "      <th>Review Title</th>\n",
       "      <th>Place of Review</th>\n",
       "      <th>Up Votes</th>\n",
       "      <th>Down Votes</th>\n",
       "      <th>Month</th>\n",
       "      <th>Review text</th>\n",
       "      <th>Ratings</th>\n",
       "      <th>sentiment</th>\n",
       "    </tr>\n",
       "  </thead>\n",
       "  <tbody>\n",
       "    <tr>\n",
       "      <th>0</th>\n",
       "      <td>Kamal Suresh</td>\n",
       "      <td>Nice product</td>\n",
       "      <td>Certified Buyer, Chirakkal</td>\n",
       "      <td>889.0</td>\n",
       "      <td>64.0</td>\n",
       "      <td>2021-02-01</td>\n",
       "      <td>nice product good quality but price is now ris...</td>\n",
       "      <td>4</td>\n",
       "      <td>Positive</td>\n",
       "    </tr>\n",
       "    <tr>\n",
       "      <th>1</th>\n",
       "      <td>Flipkart Customer</td>\n",
       "      <td>Don't waste your money</td>\n",
       "      <td>Certified Buyer, Hyderabad</td>\n",
       "      <td>109.0</td>\n",
       "      <td>6.0</td>\n",
       "      <td>2021-02-01</td>\n",
       "      <td>they didnt supplied yonex mavis outside cover ...</td>\n",
       "      <td>1</td>\n",
       "      <td>Neutral</td>\n",
       "    </tr>\n",
       "    <tr>\n",
       "      <th>2</th>\n",
       "      <td>A. S. Raja Srinivasan</td>\n",
       "      <td>Did not meet expectations</td>\n",
       "      <td>Certified Buyer, Dharmapuri</td>\n",
       "      <td>42.0</td>\n",
       "      <td>3.0</td>\n",
       "      <td>2021-04-01</td>\n",
       "      <td>worst product damaged shuttlecock packed in ne...</td>\n",
       "      <td>1</td>\n",
       "      <td>Negative</td>\n",
       "    </tr>\n",
       "    <tr>\n",
       "      <th>5</th>\n",
       "      <td>Baji Sankar</td>\n",
       "      <td>Mind-blowing purchase</td>\n",
       "      <td>Certified Buyer, Hyderabad</td>\n",
       "      <td>173.0</td>\n",
       "      <td>45.0</td>\n",
       "      <td>2018-10-01</td>\n",
       "      <td>good quality product delivered on timeread more</td>\n",
       "      <td>5</td>\n",
       "      <td>Positive</td>\n",
       "    </tr>\n",
       "    <tr>\n",
       "      <th>6</th>\n",
       "      <td>Flipkart Customer</td>\n",
       "      <td>Must buy!</td>\n",
       "      <td>Certified Buyer, Doom Dooma</td>\n",
       "      <td>403.0</td>\n",
       "      <td>121.0</td>\n",
       "      <td>2020-01-01</td>\n",
       "      <td>best purchase it is a good quality and is more...</td>\n",
       "      <td>5</td>\n",
       "      <td>Positive</td>\n",
       "    </tr>\n",
       "    <tr>\n",
       "      <th>...</th>\n",
       "      <td>...</td>\n",
       "      <td>...</td>\n",
       "      <td>...</td>\n",
       "      <td>...</td>\n",
       "      <td>...</td>\n",
       "      <td>...</td>\n",
       "      <td>...</td>\n",
       "      <td>...</td>\n",
       "      <td>...</td>\n",
       "    </tr>\n",
       "    <tr>\n",
       "      <th>8495</th>\n",
       "      <td>vishal kumar ashish</td>\n",
       "      <td>Nice</td>\n",
       "      <td>Certified Buyer, Haridwar</td>\n",
       "      <td>0.0</td>\n",
       "      <td>0.0</td>\n",
       "      <td>2016-10-01</td>\n",
       "      <td>thanks to the delivery boy service is always a...</td>\n",
       "      <td>5</td>\n",
       "      <td>Positive</td>\n",
       "    </tr>\n",
       "    <tr>\n",
       "      <th>8496</th>\n",
       "      <td>Nitya Nand  Rai</td>\n",
       "      <td>Good choice</td>\n",
       "      <td>Certified Buyer, Raebareli</td>\n",
       "      <td>0.0</td>\n",
       "      <td>0.0</td>\n",
       "      <td>2016-10-01</td>\n",
       "      <td>over priced even after discount price is much ...</td>\n",
       "      <td>1</td>\n",
       "      <td>Positive</td>\n",
       "    </tr>\n",
       "    <tr>\n",
       "      <th>8497</th>\n",
       "      <td>Tarun Reddy</td>\n",
       "      <td>Awesome</td>\n",
       "      <td>Certified Buyer</td>\n",
       "      <td>0.0</td>\n",
       "      <td>0.0</td>\n",
       "      <td>2016-10-01</td>\n",
       "      <td>too much priced it wa getting me for r from my...</td>\n",
       "      <td>1</td>\n",
       "      <td>Positive</td>\n",
       "    </tr>\n",
       "    <tr>\n",
       "      <th>8499</th>\n",
       "      <td>Jayachandra</td>\n",
       "      <td>High cost</td>\n",
       "      <td>Certified Buyer, Mangalore</td>\n",
       "      <td>0.0</td>\n",
       "      <td>0.0</td>\n",
       "      <td>2015-12-01</td>\n",
       "      <td>hii flipkart customer carewhy your delivery bo...</td>\n",
       "      <td>5</td>\n",
       "      <td>Positive</td>\n",
       "    </tr>\n",
       "    <tr>\n",
       "      <th>8507</th>\n",
       "      <td>vishnu varma</td>\n",
       "      <td>Really Nice</td>\n",
       "      <td>Certified Buyer, Agartala</td>\n",
       "      <td>0.0</td>\n",
       "      <td>1.0</td>\n",
       "      <td>2016-09-01</td>\n",
       "      <td>nice delivery speedread more</td>\n",
       "      <td>5</td>\n",
       "      <td>Positive</td>\n",
       "    </tr>\n",
       "  </tbody>\n",
       "</table>\n",
       "<p>8013 rows × 9 columns</p>\n",
       "</div>"
      ],
      "text/plain": [
       "               Reviewer Name               Review Title  \\\n",
       "0               Kamal Suresh               Nice product   \n",
       "1          Flipkart Customer     Don't waste your money   \n",
       "2     A. S. Raja Srinivasan   Did not meet expectations   \n",
       "5                Baji Sankar      Mind-blowing purchase   \n",
       "6          Flipkart Customer                  Must buy!   \n",
       "...                      ...                        ...   \n",
       "8495     vishal kumar ashish                       Nice   \n",
       "8496         Nitya Nand  Rai                Good choice   \n",
       "8497             Tarun Reddy                    Awesome   \n",
       "8499             Jayachandra                  High cost   \n",
       "8507            vishnu varma                Really Nice   \n",
       "\n",
       "                  Place of Review  Up Votes  Down Votes      Month  \\\n",
       "0      Certified Buyer, Chirakkal     889.0        64.0 2021-02-01   \n",
       "1      Certified Buyer, Hyderabad     109.0         6.0 2021-02-01   \n",
       "2     Certified Buyer, Dharmapuri      42.0         3.0 2021-04-01   \n",
       "5      Certified Buyer, Hyderabad     173.0        45.0 2018-10-01   \n",
       "6     Certified Buyer, Doom Dooma     403.0       121.0 2020-01-01   \n",
       "...                           ...       ...         ...        ...   \n",
       "8495    Certified Buyer, Haridwar       0.0         0.0 2016-10-01   \n",
       "8496   Certified Buyer, Raebareli       0.0         0.0 2016-10-01   \n",
       "8497              Certified Buyer       0.0         0.0 2016-10-01   \n",
       "8499   Certified Buyer, Mangalore       0.0         0.0 2015-12-01   \n",
       "8507    Certified Buyer, Agartala       0.0         1.0 2016-09-01   \n",
       "\n",
       "                                            Review text  Ratings sentiment  \n",
       "0     nice product good quality but price is now ris...        4  Positive  \n",
       "1     they didnt supplied yonex mavis outside cover ...        1   Neutral  \n",
       "2     worst product damaged shuttlecock packed in ne...        1  Negative  \n",
       "5       good quality product delivered on timeread more        5  Positive  \n",
       "6     best purchase it is a good quality and is more...        5  Positive  \n",
       "...                                                 ...      ...       ...  \n",
       "8495  thanks to the delivery boy service is always a...        5  Positive  \n",
       "8496  over priced even after discount price is much ...        1  Positive  \n",
       "8497  too much priced it wa getting me for r from my...        1  Positive  \n",
       "8499  hii flipkart customer carewhy your delivery bo...        5  Positive  \n",
       "8507                       nice delivery speedread more        5  Positive  \n",
       "\n",
       "[8013 rows x 9 columns]"
      ]
     },
     "execution_count": 20,
     "metadata": {},
     "output_type": "execute_result"
    }
   ],
   "source": [
    "re_bat"
   ]
  },
  {
   "cell_type": "code",
   "execution_count": 35,
   "id": "2e2b5734",
   "metadata": {},
   "outputs": [],
   "source": [
    "# Feature Extraction\n",
    "tfidf_vectorizer = TfidfVectorizer()\n",
    "X = tfidf_vectorizer.fit_transform(re_bat['Review text'])\n",
    "y = re_bat['sentiment']\n",
    "fname='vectorizer'\n",
    "pickle.dump(tfidf_vectorizer,open(fname,'wb'))"
   ]
  },
  {
   "cell_type": "markdown",
   "id": "0549276f",
   "metadata": {},
   "source": [
    "## splitting the data into train and test"
   ]
  },
  {
   "cell_type": "code",
   "execution_count": 22,
   "id": "1ba666a6",
   "metadata": {},
   "outputs": [],
   "source": [
    "X_train, X_test, y_train, y_test = train_test_split(X, y, test_size=0.2, random_state=42)\n"
   ]
  },
  {
   "cell_type": "markdown",
   "id": "3b3e5e68",
   "metadata": {},
   "source": [
    "## Training Model"
   ]
  },
  {
   "cell_type": "code",
   "execution_count": 23,
   "id": "8094f208",
   "metadata": {},
   "outputs": [
    {
     "name": "stderr",
     "output_type": "stream",
     "text": [
      "C:\\Users\\AKHIL\\AppData\\Local\\Packages\\PythonSoftwareFoundation.Python.3.10_qbz5n2kfra8p0\\LocalCache\\local-packages\\Python310\\site-packages\\sklearn\\svm\\_classes.py:32: FutureWarning: The default value of `dual` will change from `True` to `'auto'` in 1.5. Set the value of `dual` explicitly to suppress the warning.\n",
      "  warnings.warn(\n"
     ]
    },
    {
     "data": {
      "text/html": [
       "<style>#sk-container-id-1 {color: black;}#sk-container-id-1 pre{padding: 0;}#sk-container-id-1 div.sk-toggleable {background-color: white;}#sk-container-id-1 label.sk-toggleable__label {cursor: pointer;display: block;width: 100%;margin-bottom: 0;padding: 0.3em;box-sizing: border-box;text-align: center;}#sk-container-id-1 label.sk-toggleable__label-arrow:before {content: \"▸\";float: left;margin-right: 0.25em;color: #696969;}#sk-container-id-1 label.sk-toggleable__label-arrow:hover:before {color: black;}#sk-container-id-1 div.sk-estimator:hover label.sk-toggleable__label-arrow:before {color: black;}#sk-container-id-1 div.sk-toggleable__content {max-height: 0;max-width: 0;overflow: hidden;text-align: left;background-color: #f0f8ff;}#sk-container-id-1 div.sk-toggleable__content pre {margin: 0.2em;color: black;border-radius: 0.25em;background-color: #f0f8ff;}#sk-container-id-1 input.sk-toggleable__control:checked~div.sk-toggleable__content {max-height: 200px;max-width: 100%;overflow: auto;}#sk-container-id-1 input.sk-toggleable__control:checked~label.sk-toggleable__label-arrow:before {content: \"▾\";}#sk-container-id-1 div.sk-estimator input.sk-toggleable__control:checked~label.sk-toggleable__label {background-color: #d4ebff;}#sk-container-id-1 div.sk-label input.sk-toggleable__control:checked~label.sk-toggleable__label {background-color: #d4ebff;}#sk-container-id-1 input.sk-hidden--visually {border: 0;clip: rect(1px 1px 1px 1px);clip: rect(1px, 1px, 1px, 1px);height: 1px;margin: -1px;overflow: hidden;padding: 0;position: absolute;width: 1px;}#sk-container-id-1 div.sk-estimator {font-family: monospace;background-color: #f0f8ff;border: 1px dotted black;border-radius: 0.25em;box-sizing: border-box;margin-bottom: 0.5em;}#sk-container-id-1 div.sk-estimator:hover {background-color: #d4ebff;}#sk-container-id-1 div.sk-parallel-item::after {content: \"\";width: 100%;border-bottom: 1px solid gray;flex-grow: 1;}#sk-container-id-1 div.sk-label:hover label.sk-toggleable__label {background-color: #d4ebff;}#sk-container-id-1 div.sk-serial::before {content: \"\";position: absolute;border-left: 1px solid gray;box-sizing: border-box;top: 0;bottom: 0;left: 50%;z-index: 0;}#sk-container-id-1 div.sk-serial {display: flex;flex-direction: column;align-items: center;background-color: white;padding-right: 0.2em;padding-left: 0.2em;position: relative;}#sk-container-id-1 div.sk-item {position: relative;z-index: 1;}#sk-container-id-1 div.sk-parallel {display: flex;align-items: stretch;justify-content: center;background-color: white;position: relative;}#sk-container-id-1 div.sk-item::before, #sk-container-id-1 div.sk-parallel-item::before {content: \"\";position: absolute;border-left: 1px solid gray;box-sizing: border-box;top: 0;bottom: 0;left: 50%;z-index: -1;}#sk-container-id-1 div.sk-parallel-item {display: flex;flex-direction: column;z-index: 1;position: relative;background-color: white;}#sk-container-id-1 div.sk-parallel-item:first-child::after {align-self: flex-end;width: 50%;}#sk-container-id-1 div.sk-parallel-item:last-child::after {align-self: flex-start;width: 50%;}#sk-container-id-1 div.sk-parallel-item:only-child::after {width: 0;}#sk-container-id-1 div.sk-dashed-wrapped {border: 1px dashed gray;margin: 0 0.4em 0.5em 0.4em;box-sizing: border-box;padding-bottom: 0.4em;background-color: white;}#sk-container-id-1 div.sk-label label {font-family: monospace;font-weight: bold;display: inline-block;line-height: 1.2em;}#sk-container-id-1 div.sk-label-container {text-align: center;}#sk-container-id-1 div.sk-container {/* jupyter's `normalize.less` sets `[hidden] { display: none; }` but bootstrap.min.css set `[hidden] { display: none !important; }` so we also need the `!important` here to be able to override the default hidden behavior on the sphinx rendered scikit-learn.org. See: https://github.com/scikit-learn/scikit-learn/issues/21755 */display: inline-block !important;position: relative;}#sk-container-id-1 div.sk-text-repr-fallback {display: none;}</style><div id=\"sk-container-id-1\" class=\"sk-top-container\"><div class=\"sk-text-repr-fallback\"><pre>LinearSVC()</pre><b>In a Jupyter environment, please rerun this cell to show the HTML representation or trust the notebook. <br />On GitHub, the HTML representation is unable to render, please try loading this page with nbviewer.org.</b></div><div class=\"sk-container\" hidden><div class=\"sk-item\"><div class=\"sk-estimator sk-toggleable\"><input class=\"sk-toggleable__control sk-hidden--visually\" id=\"sk-estimator-id-1\" type=\"checkbox\" checked><label for=\"sk-estimator-id-1\" class=\"sk-toggleable__label sk-toggleable__label-arrow\">LinearSVC</label><div class=\"sk-toggleable__content\"><pre>LinearSVC()</pre></div></div></div></div></div>"
      ],
      "text/plain": [
       "LinearSVC()"
      ]
     },
     "execution_count": 23,
     "metadata": {},
     "output_type": "execute_result"
    }
   ],
   "source": [
    "model = LinearSVC()\n",
    "\n",
    "model.fit(X_train, y_train)"
   ]
  },
  {
   "cell_type": "code",
   "execution_count": 24,
   "id": "f2e0c4c4",
   "metadata": {},
   "outputs": [
    {
     "name": "stdout",
     "output_type": "stream",
     "text": [
      "Accuracy: 0.9769182782283219\n",
      "Classification Report:\n",
      "              precision    recall  f1-score   support\n",
      "\n",
      "    Negative       0.89      0.64      0.75        76\n",
      "     Neutral       0.00      0.00      0.00         4\n",
      "    Positive       0.98      1.00      0.99      1523\n",
      "\n",
      "    accuracy                           0.98      1603\n",
      "   macro avg       0.62      0.55      0.58      1603\n",
      "weighted avg       0.97      0.98      0.97      1603\n",
      "\n"
     ]
    },
    {
     "name": "stderr",
     "output_type": "stream",
     "text": [
      "C:\\Users\\AKHIL\\AppData\\Local\\Packages\\PythonSoftwareFoundation.Python.3.10_qbz5n2kfra8p0\\LocalCache\\local-packages\\Python310\\site-packages\\sklearn\\metrics\\_classification.py:1471: UndefinedMetricWarning: Precision and F-score are ill-defined and being set to 0.0 in labels with no predicted samples. Use `zero_division` parameter to control this behavior.\n",
      "  _warn_prf(average, modifier, msg_start, len(result))\n",
      "C:\\Users\\AKHIL\\AppData\\Local\\Packages\\PythonSoftwareFoundation.Python.3.10_qbz5n2kfra8p0\\LocalCache\\local-packages\\Python310\\site-packages\\sklearn\\metrics\\_classification.py:1471: UndefinedMetricWarning: Precision and F-score are ill-defined and being set to 0.0 in labels with no predicted samples. Use `zero_division` parameter to control this behavior.\n",
      "  _warn_prf(average, modifier, msg_start, len(result))\n",
      "C:\\Users\\AKHIL\\AppData\\Local\\Packages\\PythonSoftwareFoundation.Python.3.10_qbz5n2kfra8p0\\LocalCache\\local-packages\\Python310\\site-packages\\sklearn\\metrics\\_classification.py:1471: UndefinedMetricWarning: Precision and F-score are ill-defined and being set to 0.0 in labels with no predicted samples. Use `zero_division` parameter to control this behavior.\n",
      "  _warn_prf(average, modifier, msg_start, len(result))\n"
     ]
    }
   ],
   "source": [
    "y_pred = model.predict(X_test)\n",
    "accuracy = accuracy_score(y_test, y_pred)\n",
    "print(\"Accuracy:\", accuracy)\n",
    "print(\"Classification Report:\")\n",
    "print(classification_report(y_test, y_pred))"
   ]
  },
  {
   "cell_type": "code",
   "execution_count": 27,
   "id": "a0038ef3",
   "metadata": {},
   "outputs": [],
   "source": [
    "file_name=\"sentiment analyzer\"\n",
    "pickle.dump(model,open(file_name,'wb'))"
   ]
  },
  {
   "cell_type": "code",
   "execution_count": 29,
   "id": "570dfc58",
   "metadata": {},
   "outputs": [],
   "source": [
    "loaded_model=pickle.load(open(file_name,'rb'))\n"
   ]
  },
  {
   "cell_type": "code",
   "execution_count": 33,
   "id": "7c4ebbdb",
   "metadata": {},
   "outputs": [
    {
     "name": "stdout",
     "output_type": "stream",
     "text": [
      "Accuracy: 0.9769182782283219\n"
     ]
    }
   ],
   "source": [
    "n_pred=loaded_model.predict(X_test)\n",
    "n_accuracy = accuracy_score(y_test, n_pred)\n",
    "#print(n_pred)\n",
    "print(\"Accuracy:\", n_accuracy)"
   ]
  },
  {
   "cell_type": "code",
   "execution_count": 34,
   "id": "747889b5",
   "metadata": {},
   "outputs": [
    {
     "name": "stdout",
     "output_type": "stream",
     "text": [
      "  (0, 2002)\t0.7437284883679026\n",
      "  (0, 83)\t0.28594095724703095\n",
      "  (0, 738)\t0.45467534274114846\n",
      "  (0, 1835)\t0.08365586397679617\n",
      "  (0, 2312)\t0.2641008703751939\n",
      "  (0, 1892)\t0.28570695467773616\n",
      "  (1, 2302)\t0.5612693563237678\n",
      "  (1, 680)\t0.4856060209271132\n",
      "  (1, 1976)\t0.3329610858287218\n",
      "  (1, 1142)\t0.25544693325232515\n",
      "  (1, 1973)\t0.38079248236805335\n",
      "  (1, 3215)\t0.2980649715747969\n",
      "  (1, 1835)\t0.07479563780850265\n",
      "  (1, 1235)\t0.18332280917521057\n",
      "  (2, 3045)\t0.9781575864816678\n",
      "  (2, 1835)\t0.20786470601898405\n",
      "  (3, 2328)\t0.7603444058271919\n",
      "  (3, 1204)\t0.39940213315172385\n",
      "  (3, 1538)\t0.42145910794236124\n",
      "  (3, 1142)\t0.279349626650984\n",
      "  (3, 1835)\t0.08179441902435623\n",
      "  (4, 1902)\t0.7605213432384943\n",
      "  (4, 3363)\t0.6185199867969247\n",
      "  (4, 1835)\t0.19758621513518665\n",
      "  (5, 1476)\t0.8206843845533146\n",
      "  :\t:\n",
      "  (1602, 1976)\t0.09698842238834589\n",
      "  (1602, 114)\t0.1586307798520479\n",
      "  (1602, 3134)\t0.11959324416530956\n",
      "  (1602, 1641)\t0.13726119446705295\n",
      "  (1602, 1226)\t0.11582363004562612\n",
      "  (1602, 942)\t0.12771281880618096\n",
      "  (1602, 1167)\t0.2218425136997415\n",
      "  (1602, 1142)\t0.2232278435639364\n",
      "  (1602, 2509)\t0.12033186620476521\n",
      "  (1602, 3158)\t0.09076354785364976\n",
      "  (1602, 2811)\t0.07374991890447154\n",
      "  (1602, 884)\t0.2483088255450391\n",
      "  (1602, 83)\t0.07447022462212448\n",
      "  (1602, 1519)\t0.22698530275714937\n",
      "  (1602, 3215)\t0.08682351359563285\n",
      "  (1602, 3549)\t0.11141457445713626\n",
      "  (1602, 3149)\t0.2622599741215374\n",
      "  (1602, 1835)\t0.02178726350114221\n",
      "  (1602, 1945)\t0.1790221229118243\n",
      "  (1602, 1458)\t0.08650310688736693\n",
      "  (1602, 2895)\t0.11191932128224963\n",
      "  (1602, 3388)\t0.09813306711756524\n",
      "  (1602, 1510)\t0.07145440158721826\n",
      "  (1602, 374)\t0.1825708468550264\n",
      "  (1602, 1892)\t0.0744092811879788\n"
     ]
    }
   ],
   "source": [
    "print(X_test)"
   ]
  },
  {
   "cell_type": "code",
   "execution_count": 44,
   "id": "1c2acee5",
   "metadata": {},
   "outputs": [
    {
     "data": {
      "text/plain": [
       "'This is bad'"
      ]
     },
     "execution_count": 44,
     "metadata": {},
     "output_type": "execute_result"
    }
   ],
   "source": [
    "txt=input()\n",
    "txt\n",
    "\n"
   ]
  },
  {
   "cell_type": "code",
   "execution_count": 45,
   "id": "b718f83a",
   "metadata": {},
   "outputs": [
    {
     "data": {
      "text/plain": [
       "'this is bad'"
      ]
     },
     "execution_count": 45,
     "metadata": {},
     "output_type": "execute_result"
    }
   ],
   "source": [
    "cleaned_txt=clean_text(txt)\n",
    "cleaned_txt"
   ]
  },
  {
   "cell_type": "code",
   "execution_count": 46,
   "id": "e3a19508",
   "metadata": {},
   "outputs": [
    {
     "data": {
      "text/plain": [
       "'this is bad'"
      ]
     },
     "execution_count": 46,
     "metadata": {},
     "output_type": "execute_result"
    }
   ],
   "source": [
    "lemmatized_txt=(lemmatize_text(cleaned_txt))\n",
    "lemmatized_txt"
   ]
  },
  {
   "cell_type": "code",
   "execution_count": 47,
   "id": "a6112179",
   "metadata": {},
   "outputs": [
    {
     "data": {
      "text/plain": [
       "<1x3565 sparse matrix of type '<class 'numpy.float64'>'\n",
       "\twith 3 stored elements in Compressed Sparse Row format>"
      ]
     },
     "execution_count": 47,
     "metadata": {},
     "output_type": "execute_result"
    }
   ],
   "source": [
    "vec_model=pickle.load(open(fname,'rb'))\n",
    "vec_txt=vec_model.transform([lemmatized_txt])\n",
    "vec_txt"
   ]
  },
  {
   "cell_type": "code",
   "execution_count": 48,
   "id": "6fdb621f",
   "metadata": {},
   "outputs": [
    {
     "data": {
      "text/plain": [
       "array(['Negative'], dtype=object)"
      ]
     },
     "execution_count": 48,
     "metadata": {},
     "output_type": "execute_result"
    }
   ],
   "source": [
    "sent=pickle.load(open(file_name,'rb'))\n",
    "l_pred=sent.predict(vec_txt)\n",
    "l_pred"
   ]
  },
  {
   "cell_type": "code",
   "execution_count": null,
   "id": "05d01032",
   "metadata": {},
   "outputs": [],
   "source": []
  }
 ],
 "metadata": {
  "kernelspec": {
   "display_name": "Python 3 (ipykernel)",
   "language": "python",
   "name": "python3"
  },
  "language_info": {
   "codemirror_mode": {
    "name": "ipython",
    "version": 3
   },
   "file_extension": ".py",
   "mimetype": "text/x-python",
   "name": "python",
   "nbconvert_exporter": "python",
   "pygments_lexer": "ipython3",
   "version": "3.10.11"
  }
 },
 "nbformat": 4,
 "nbformat_minor": 5
}
